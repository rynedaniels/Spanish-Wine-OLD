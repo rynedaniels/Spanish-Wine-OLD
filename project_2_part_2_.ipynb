{
  "nbformat": 4,
  "nbformat_minor": 0,
  "metadata": {
    "colab": {
      "provenance": [],
      "authorship_tag": "ABX9TyNZNGeWLnJ1Xik/kO8l6Vrh",
      "include_colab_link": true
    },
    "kernelspec": {
      "name": "python3",
      "display_name": "Python 3"
    },
    "language_info": {
      "name": "python"
    }
  },
  "cells": [
    {
      "cell_type": "markdown",
      "metadata": {
        "id": "view-in-github",
        "colab_type": "text"
      },
      "source": [
        "<a href=\"https://colab.research.google.com/github/rynedaniels/project_2/blob/main/project_2_part_2_.ipynb\" target=\"_parent\"><img src=\"https://colab.research.google.com/assets/colab-badge.svg\" alt=\"Open In Colab\"/></a>"
      ]
    },
    {
      "cell_type": "code",
      "execution_count": 1,
      "metadata": {
        "id": "MvfGINs_9lui"
      },
      "outputs": [],
      "source": [
        "import pandas as pd\n",
        "import numpy as np\n",
        "import matplotlib.pyplot as plt\n",
        "import seaborn as sns"
      ]
    },
    {
      "cell_type": "code",
      "source": [
        "from google.colab import drive\n",
        "drive.mount('/content/drive')"
      ],
      "metadata": {
        "colab": {
          "base_uri": "https://localhost:8080/"
        },
        "id": "yHd8vTaB-dWC",
        "outputId": "c98eb78a-c91d-49da-d5ac-96b95c7c1b94"
      },
      "execution_count": 2,
      "outputs": [
        {
          "output_type": "stream",
          "name": "stdout",
          "text": [
            "Mounted at /content/drive\n"
          ]
        }
      ]
    },
    {
      "cell_type": "code",
      "source": [
        "df = pd.read_csv('/content/drive/MyDrive/Coding Dojo/Part 2/07: Classification Models/spanishwines.csv')"
      ],
      "metadata": {
        "id": "_JRh_JfNAR4p"
      },
      "execution_count": 3,
      "outputs": []
    },
    {
      "cell_type": "code",
      "source": [
        "df.duplicated().sum()"
      ],
      "metadata": {
        "colab": {
          "base_uri": "https://localhost:8080/"
        },
        "id": "bRiGVBxvA6Tg",
        "outputId": "a4295d87-6092-4093-b86b-2c0ef8c07c4f"
      },
      "execution_count": 4,
      "outputs": [
        {
          "output_type": "execute_result",
          "data": {
            "text/plain": [
              "5452"
            ]
          },
          "metadata": {},
          "execution_count": 4
        }
      ]
    },
    {
      "cell_type": "code",
      "source": [
        "df = df.drop_duplicates()"
      ],
      "metadata": {
        "id": "v80ZOjU4BX6J"
      },
      "execution_count": 5,
      "outputs": []
    },
    {
      "cell_type": "code",
      "source": [
        "df.shape"
      ],
      "metadata": {
        "colab": {
          "base_uri": "https://localhost:8080/"
        },
        "id": "vs9t2m4lC1Rf",
        "outputId": "ac26fa14-ea31-4c85-f32b-46f9e0dfc94f"
      },
      "execution_count": 6,
      "outputs": [
        {
          "output_type": "execute_result",
          "data": {
            "text/plain": [
              "(2048, 11)"
            ]
          },
          "metadata": {},
          "execution_count": 6
        }
      ]
    },
    {
      "cell_type": "code",
      "source": [
        "df.isna().sum()"
      ],
      "metadata": {
        "colab": {
          "base_uri": "https://localhost:8080/"
        },
        "id": "hHFiQYnEBlPZ",
        "outputId": "44c46693-e8a1-412e-bf87-20a531f6988e"
      },
      "execution_count": 7,
      "outputs": [
        {
          "output_type": "execute_result",
          "data": {
            "text/plain": [
              "winery           0\n",
              "wine             0\n",
              "year             2\n",
              "rating           0\n",
              "num_reviews      0\n",
              "country          0\n",
              "region           0\n",
              "price            0\n",
              "type           106\n",
              "body           271\n",
              "acidity        271\n",
              "dtype: int64"
            ]
          },
          "metadata": {},
          "execution_count": 7
        }
      ]
    },
    {
      "cell_type": "code",
      "source": [
        "df['type'].fillna('Missing', inplace=True)"
      ],
      "metadata": {
        "id": "XKQtxZU7CQVo"
      },
      "execution_count": 8,
      "outputs": []
    },
    {
      "cell_type": "code",
      "source": [
        "median_body = df['body'].median()\n",
        "median_acidity = df['acidity'].median()\n",
        "\n",
        "df['body'].fillna(median_body, inplace=True)\n",
        "df['acidity'].fillna(median_acidity, inplace=True)"
      ],
      "metadata": {
        "id": "olTHyKdsDdni"
      },
      "execution_count": 9,
      "outputs": []
    },
    {
      "cell_type": "code",
      "source": [
        "df.isna().sum()"
      ],
      "metadata": {
        "colab": {
          "base_uri": "https://localhost:8080/"
        },
        "id": "WKTev29DD80X",
        "outputId": "1e0602ae-4205-4227-e1ef-2d7c08b07916"
      },
      "execution_count": 10,
      "outputs": [
        {
          "output_type": "execute_result",
          "data": {
            "text/plain": [
              "winery         0\n",
              "wine           0\n",
              "year           2\n",
              "rating         0\n",
              "num_reviews    0\n",
              "country        0\n",
              "region         0\n",
              "price          0\n",
              "type           0\n",
              "body           0\n",
              "acidity        0\n",
              "dtype: int64"
            ]
          },
          "metadata": {},
          "execution_count": 10
        }
      ]
    },
    {
      "cell_type": "code",
      "source": [
        "most_common_year = df['year'].mode()\n",
        "df['year'].fillna(most_common_year, inplace=True)"
      ],
      "metadata": {
        "id": "94vkSAtoEBOn"
      },
      "execution_count": 11,
      "outputs": []
    },
    {
      "cell_type": "code",
      "source": [
        "for col in df.select_dtypes('object'):\n",
        "  print(df[col].value_counts())"
      ],
      "metadata": {
        "colab": {
          "base_uri": "https://localhost:8080/"
        },
        "id": "7ouDTO-5Edvq",
        "outputId": "5be7ecb9-4a42-4432-a522-3cadff053807"
      },
      "execution_count": 12,
      "outputs": [
        {
          "output_type": "stream",
          "name": "stdout",
          "text": [
            "Vega Sicilia                            97\n",
            "Alvaro Palacios                         48\n",
            "Artadi                                  43\n",
            "La Rioja Alta                           36\n",
            "Marques de Murrieta                     33\n",
            "                                        ..\n",
            "Valdelosfrailes                          1\n",
            "Briego                                   1\n",
            "Guillem Carol - Cellers Carol Valles     1\n",
            "Particular                               1\n",
            "Binigrau                                 1\n",
            "Name: winery, Length: 480, dtype: int64\n",
            "Tinto                                                 56\n",
            "Unico                                                 41\n",
            "Valbuena 5o                                           32\n",
            "Reserva                                               31\n",
            "Priorat                                               26\n",
            "                                                      ..\n",
            "San Valentin Parellada                                 1\n",
            "Silvanus Edicion Limitada Ribera del Duero             1\n",
            "El Jardin de las Iguales Vinedo Historico Garnacha     1\n",
            "Garnacha Vinas Centenarias                             1\n",
            "Capricho Crianza                                       1\n",
            "Name: wine, Length: 847, dtype: int64\n",
            "2016    243\n",
            "2017    240\n",
            "2015    206\n",
            "2018    196\n",
            "2014    158\n",
            "       ... \n",
            "1953      1\n",
            "1972      1\n",
            "1974      1\n",
            "1931      1\n",
            "1925      1\n",
            "Name: year, Length: 71, dtype: int64\n",
            "Espana    2048\n",
            "Name: country, dtype: int64\n",
            "Ribera del Duero                   541\n",
            "Rioja                              479\n",
            "Priorato                           250\n",
            "Toro                                82\n",
            "Castilla y Leon                     51\n",
            "                                  ... \n",
            "Ribera del Gallego-Cinco Villas      1\n",
            "Monterrei                            1\n",
            "Jerez Cream                          1\n",
            "Condado de Huelva                    1\n",
            "Abona                                1\n",
            "Name: region, Length: 76, dtype: int64\n",
            "Ribera Del Duero Red    535\n",
            "Rioja Red               451\n",
            "Priorat Red             238\n",
            "Red                     210\n",
            "Missing                 106\n",
            "Toro Red                 78\n",
            "Tempranillo              73\n",
            "Sherry                   56\n",
            "Rioja White              37\n",
            "Pedro Ximenez            35\n",
            "Grenache                 35\n",
            "Albarino                 34\n",
            "Cava                     33\n",
            "Verdejo                  27\n",
            "Monastrell               18\n",
            "Mencia                   17\n",
            "Montsant Red             17\n",
            "Syrah                    15\n",
            "Chardonnay               13\n",
            "Cabernet Sauvignon       11\n",
            "Sparkling                 5\n",
            "Sauvignon Blanc           4\n",
            "Name: type, dtype: int64\n"
          ]
        }
      ]
    },
    {
      "cell_type": "code",
      "source": [
        "df.describe()"
      ],
      "metadata": {
        "colab": {
          "base_uri": "https://localhost:8080/",
          "height": 300
        },
        "id": "3vr9mYcKGQ-u",
        "outputId": "91f3b63d-012e-4e34-ea15-185c4081d2bd"
      },
      "execution_count": 13,
      "outputs": [
        {
          "output_type": "execute_result",
          "data": {
            "text/plain": [
              "            rating   num_reviews        price         body      acidity\n",
              "count  2048.000000   2048.000000  2048.000000  2048.000000  2048.000000\n",
              "mean      4.401123    573.994629   135.242194     4.224609     2.931641\n",
              "std       0.147023   1376.153171   272.178316     0.614385     0.312912\n",
              "min       4.200000     25.000000     4.990000     2.000000     1.000000\n",
              "25%       4.300000     58.000000    31.917947     4.000000     3.000000\n",
              "50%       4.400000    141.000000    53.625000     4.000000     3.000000\n",
              "75%       4.500000    485.500000   110.000000     5.000000     3.000000\n",
              "max       4.900000  32624.000000  3119.080000     5.000000     3.000000"
            ],
            "text/html": [
              "\n",
              "  <div id=\"df-948517a6-8679-4a04-9b7b-b9b74fa49574\">\n",
              "    <div class=\"colab-df-container\">\n",
              "      <div>\n",
              "<style scoped>\n",
              "    .dataframe tbody tr th:only-of-type {\n",
              "        vertical-align: middle;\n",
              "    }\n",
              "\n",
              "    .dataframe tbody tr th {\n",
              "        vertical-align: top;\n",
              "    }\n",
              "\n",
              "    .dataframe thead th {\n",
              "        text-align: right;\n",
              "    }\n",
              "</style>\n",
              "<table border=\"1\" class=\"dataframe\">\n",
              "  <thead>\n",
              "    <tr style=\"text-align: right;\">\n",
              "      <th></th>\n",
              "      <th>rating</th>\n",
              "      <th>num_reviews</th>\n",
              "      <th>price</th>\n",
              "      <th>body</th>\n",
              "      <th>acidity</th>\n",
              "    </tr>\n",
              "  </thead>\n",
              "  <tbody>\n",
              "    <tr>\n",
              "      <th>count</th>\n",
              "      <td>2048.000000</td>\n",
              "      <td>2048.000000</td>\n",
              "      <td>2048.000000</td>\n",
              "      <td>2048.000000</td>\n",
              "      <td>2048.000000</td>\n",
              "    </tr>\n",
              "    <tr>\n",
              "      <th>mean</th>\n",
              "      <td>4.401123</td>\n",
              "      <td>573.994629</td>\n",
              "      <td>135.242194</td>\n",
              "      <td>4.224609</td>\n",
              "      <td>2.931641</td>\n",
              "    </tr>\n",
              "    <tr>\n",
              "      <th>std</th>\n",
              "      <td>0.147023</td>\n",
              "      <td>1376.153171</td>\n",
              "      <td>272.178316</td>\n",
              "      <td>0.614385</td>\n",
              "      <td>0.312912</td>\n",
              "    </tr>\n",
              "    <tr>\n",
              "      <th>min</th>\n",
              "      <td>4.200000</td>\n",
              "      <td>25.000000</td>\n",
              "      <td>4.990000</td>\n",
              "      <td>2.000000</td>\n",
              "      <td>1.000000</td>\n",
              "    </tr>\n",
              "    <tr>\n",
              "      <th>25%</th>\n",
              "      <td>4.300000</td>\n",
              "      <td>58.000000</td>\n",
              "      <td>31.917947</td>\n",
              "      <td>4.000000</td>\n",
              "      <td>3.000000</td>\n",
              "    </tr>\n",
              "    <tr>\n",
              "      <th>50%</th>\n",
              "      <td>4.400000</td>\n",
              "      <td>141.000000</td>\n",
              "      <td>53.625000</td>\n",
              "      <td>4.000000</td>\n",
              "      <td>3.000000</td>\n",
              "    </tr>\n",
              "    <tr>\n",
              "      <th>75%</th>\n",
              "      <td>4.500000</td>\n",
              "      <td>485.500000</td>\n",
              "      <td>110.000000</td>\n",
              "      <td>5.000000</td>\n",
              "      <td>3.000000</td>\n",
              "    </tr>\n",
              "    <tr>\n",
              "      <th>max</th>\n",
              "      <td>4.900000</td>\n",
              "      <td>32624.000000</td>\n",
              "      <td>3119.080000</td>\n",
              "      <td>5.000000</td>\n",
              "      <td>3.000000</td>\n",
              "    </tr>\n",
              "  </tbody>\n",
              "</table>\n",
              "</div>\n",
              "      <button class=\"colab-df-convert\" onclick=\"convertToInteractive('df-948517a6-8679-4a04-9b7b-b9b74fa49574')\"\n",
              "              title=\"Convert this dataframe to an interactive table.\"\n",
              "              style=\"display:none;\">\n",
              "        \n",
              "  <svg xmlns=\"http://www.w3.org/2000/svg\" height=\"24px\"viewBox=\"0 0 24 24\"\n",
              "       width=\"24px\">\n",
              "    <path d=\"M0 0h24v24H0V0z\" fill=\"none\"/>\n",
              "    <path d=\"M18.56 5.44l.94 2.06.94-2.06 2.06-.94-2.06-.94-.94-2.06-.94 2.06-2.06.94zm-11 1L8.5 8.5l.94-2.06 2.06-.94-2.06-.94L8.5 2.5l-.94 2.06-2.06.94zm10 10l.94 2.06.94-2.06 2.06-.94-2.06-.94-.94-2.06-.94 2.06-2.06.94z\"/><path d=\"M17.41 7.96l-1.37-1.37c-.4-.4-.92-.59-1.43-.59-.52 0-1.04.2-1.43.59L10.3 9.45l-7.72 7.72c-.78.78-.78 2.05 0 2.83L4 21.41c.39.39.9.59 1.41.59.51 0 1.02-.2 1.41-.59l7.78-7.78 2.81-2.81c.8-.78.8-2.07 0-2.86zM5.41 20L4 18.59l7.72-7.72 1.47 1.35L5.41 20z\"/>\n",
              "  </svg>\n",
              "      </button>\n",
              "      \n",
              "  <style>\n",
              "    .colab-df-container {\n",
              "      display:flex;\n",
              "      flex-wrap:wrap;\n",
              "      gap: 12px;\n",
              "    }\n",
              "\n",
              "    .colab-df-convert {\n",
              "      background-color: #E8F0FE;\n",
              "      border: none;\n",
              "      border-radius: 50%;\n",
              "      cursor: pointer;\n",
              "      display: none;\n",
              "      fill: #1967D2;\n",
              "      height: 32px;\n",
              "      padding: 0 0 0 0;\n",
              "      width: 32px;\n",
              "    }\n",
              "\n",
              "    .colab-df-convert:hover {\n",
              "      background-color: #E2EBFA;\n",
              "      box-shadow: 0px 1px 2px rgba(60, 64, 67, 0.3), 0px 1px 3px 1px rgba(60, 64, 67, 0.15);\n",
              "      fill: #174EA6;\n",
              "    }\n",
              "\n",
              "    [theme=dark] .colab-df-convert {\n",
              "      background-color: #3B4455;\n",
              "      fill: #D2E3FC;\n",
              "    }\n",
              "\n",
              "    [theme=dark] .colab-df-convert:hover {\n",
              "      background-color: #434B5C;\n",
              "      box-shadow: 0px 1px 3px 1px rgba(0, 0, 0, 0.15);\n",
              "      filter: drop-shadow(0px 1px 2px rgba(0, 0, 0, 0.3));\n",
              "      fill: #FFFFFF;\n",
              "    }\n",
              "  </style>\n",
              "\n",
              "      <script>\n",
              "        const buttonEl =\n",
              "          document.querySelector('#df-948517a6-8679-4a04-9b7b-b9b74fa49574 button.colab-df-convert');\n",
              "        buttonEl.style.display =\n",
              "          google.colab.kernel.accessAllowed ? 'block' : 'none';\n",
              "\n",
              "        async function convertToInteractive(key) {\n",
              "          const element = document.querySelector('#df-948517a6-8679-4a04-9b7b-b9b74fa49574');\n",
              "          const dataTable =\n",
              "            await google.colab.kernel.invokeFunction('convertToInteractive',\n",
              "                                                     [key], {});\n",
              "          if (!dataTable) return;\n",
              "\n",
              "          const docLinkHtml = 'Like what you see? Visit the ' +\n",
              "            '<a target=\"_blank\" href=https://colab.research.google.com/notebooks/data_table.ipynb>data table notebook</a>'\n",
              "            + ' to learn more about interactive tables.';\n",
              "          element.innerHTML = '';\n",
              "          dataTable['output_type'] = 'display_data';\n",
              "          await google.colab.output.renderOutput(dataTable, element);\n",
              "          const docLink = document.createElement('div');\n",
              "          docLink.innerHTML = docLinkHtml;\n",
              "          element.appendChild(docLink);\n",
              "        }\n",
              "      </script>\n",
              "    </div>\n",
              "  </div>\n",
              "  "
            ]
          },
          "metadata": {},
          "execution_count": 13
        }
      ]
    },
    {
      "cell_type": "code",
      "source": [
        "df.info()"
      ],
      "metadata": {
        "colab": {
          "base_uri": "https://localhost:8080/"
        },
        "id": "MW_fquTLuvSG",
        "outputId": "e9e98118-e1ee-42eb-c315-1a1f3e81dbd1"
      },
      "execution_count": 15,
      "outputs": [
        {
          "output_type": "stream",
          "name": "stdout",
          "text": [
            "<class 'pandas.core.frame.DataFrame'>\n",
            "Int64Index: 2048 entries, 0 to 6100\n",
            "Data columns (total 11 columns):\n",
            " #   Column       Non-Null Count  Dtype  \n",
            "---  ------       --------------  -----  \n",
            " 0   winery       2048 non-null   object \n",
            " 1   wine         2048 non-null   object \n",
            " 2   year         2046 non-null   object \n",
            " 3   rating       2048 non-null   float64\n",
            " 4   num_reviews  2048 non-null   int64  \n",
            " 5   country      2048 non-null   object \n",
            " 6   region       2048 non-null   object \n",
            " 7   price        2048 non-null   float64\n",
            " 8   type         2048 non-null   object \n",
            " 9   body         2048 non-null   float64\n",
            " 10  acidity      2048 non-null   float64\n",
            "dtypes: float64(4), int64(1), object(6)\n",
            "memory usage: 192.0+ KB\n"
          ]
        }
      ]
    },
    {
      "cell_type": "markdown",
      "source": [
        "**Produced univariate visuals for the target and all features.**"
      ],
      "metadata": {
        "id": "R4UoDrZRFL2N"
      }
    },
    {
      "cell_type": "code",
      "source": [
        "ratings_data = df['rating']\n",
        "fig, ax = plt.subplots()\n",
        "ax.boxplot([ratings_data], vert = False);"
      ],
      "metadata": {
        "colab": {
          "base_uri": "https://localhost:8080/",
          "height": 265
        },
        "id": "i4KRli7jEeJu",
        "outputId": "9d21cc86-ad1a-4d31-b6de-c4f0e9b5349b"
      },
      "execution_count": 16,
      "outputs": [
        {
          "output_type": "display_data",
          "data": {
            "text/plain": [
              "<Figure size 432x288 with 1 Axes>"
            ],
            "image/png": "[encoded data removed]"
          },
          "metadata": {
            "needs_background": "light"
          }
        }
      ]
    },
    {
      "cell_type": "code",
      "source": [
        "winery_group = df.groupby('winery')['rating'].mean()\n",
        "sorted_wineries = winery_group.sort_values(ascending=False)\n",
        "top_10_wineries = sorted_wineries.head(10)\n",
        "\n",
        "\n",
        "top_10_wineries_df = top_10_wineries.reset_index()\n"
      ],
      "metadata": {
        "id": "m01phi2l3nJ6"
      },
      "execution_count": 31,
      "outputs": []
    },
    {
      "cell_type": "code",
      "source": [
        "sns.barplot(data = top_10_wineries_df, x = 'winery', y='rating')\n",
        "plt.xticks(rotation=90)\n",
        "plt.show()"
      ],
      "metadata": {
        "colab": {
          "base_uri": "https://localhost:8080/",
          "height": 381
        },
        "id": "5_CIV_gz0JvT",
        "outputId": "4233111f-00b9-45d2-d25e-998f63d48ac3"
      },
      "execution_count": 36,
      "outputs": [
        {
          "output_type": "display_data",
          "data": {
            "text/plain": [
              "<Figure size 432x288 with 1 Axes>"
            ],
            "image/png": "[encoded data removed]"
          },
          "metadata": {
            "needs_background": "light"
          }
        }
      ]
    },
    {
      "cell_type": "code",
      "source": [
        "vino_group = df.groupby('wine')['rating'].mean()\n",
        "sorted_vino = vino_group.sort_values(ascending=False)\n",
        "top_10_vino = sorted_vino.head(10)\n",
        "\n",
        "top_10_wineries_df = top_10_vino.reset_index()\n"
      ],
      "metadata": {
        "id": "Iya5XI6b0JtO"
      },
      "execution_count": 38,
      "outputs": []
    },
    {
      "cell_type": "code",
      "source": [
        "sns.barplot(data = top_10_wineries_df, x = 'rating', y='wine')\n",
        "plt.show()"
      ],
      "metadata": {
        "colab": {
          "base_uri": "https://localhost:8080/",
          "height": 279
        },
        "id": "QGt1-tWe0Jq2",
        "outputId": "8fcbb066-6969-44e3-bc4f-6f349a6021b8"
      },
      "execution_count": 40,
      "outputs": [
        {
          "output_type": "display_data",
          "data": {
            "text/plain": [
              "<Figure size 432x288 with 1 Axes>"
            ],
            "image/png": "[encoded data removed]"
          },
          "metadata": {
            "needs_background": "light"
          }
        }
      ]
    },
    {
      "cell_type": "code",
      "source": [
        "avg_vintage_rating = df.groupby('year')['rating'].mean()\n",
        "avg_vintage_rating_df = avg_vintage_rating.reset_index()\n"
      ],
      "metadata": {
        "id": "L9C22W4w0Joe"
      },
      "execution_count": 46,
      "outputs": []
    },
    {
      "cell_type": "code",
      "source": [
        "sns.lineplot(data = avg_vintage_rating_df, x='year', y='rating')\n",
        "plt.xticks(rotation=90)\n",
        "plt.show()"
      ],
      "metadata": {
        "colab": {
          "base_uri": "https://localhost:8080/",
          "height": 295
        },
        "id": "2kDaeYSW9gvz",
        "outputId": "63920455-7258-49f7-f7fc-173577b7cc42"
      },
      "execution_count": 49,
      "outputs": [
        {
          "output_type": "display_data",
          "data": {
            "text/plain": [
              "<Figure size 432x288 with 1 Axes>"
            ],
            "image/png": "[encoded data removed]"
          },
          "metadata": {
            "needs_background": "light"
          }
        }
      ]
    },
    {
      "cell_type": "code",
      "source": [
        "top_5_reviews = df.groupby('wine')['num_reviews'].sum()\n",
        "sorted_reviews = top_5_reviews.sort_values(ascending=False)\n",
        "sorted_reviews = sorted_reviews.head(5)\n",
        "top_5_reviews_df = sorted_reviews.reset_index()"
      ],
      "metadata": {
        "id": "MwKuiGHv0Jl9"
      },
      "execution_count": 57,
      "outputs": []
    },
    {
      "cell_type": "code",
      "source": [
        "top_5_reviews_df"
      ],
      "metadata": {
        "colab": {
          "base_uri": "https://localhost:8080/",
          "height": 206
        },
        "id": "vli8OMMdACtk",
        "outputId": "7d1d656b-61c4-465d-c2db-f77b81436ca7"
      },
      "execution_count": 58,
      "outputs": [
        {
          "output_type": "execute_result",
          "data": {
            "text/plain": [
              "               wine  num_reviews\n",
              "0  Ribera del Duero        62290\n",
              "1       Valbuena 5o        61257\n",
              "2             Tinto        45667\n",
              "3              Toro        44832\n",
              "4     Rioja Reserva        40031"
            ],
            "text/html": [
              "\n",
              "  <div id=\"df-e7e7eaa6-294f-483a-b5aa-48d9fda62a66\">\n",
              "    <div class=\"colab-df-container\">\n",
              "      <div>\n",
              "<style scoped>\n",
              "    .dataframe tbody tr th:only-of-type {\n",
              "        vertical-align: middle;\n",
              "    }\n",
              "\n",
              "    .dataframe tbody tr th {\n",
              "        vertical-align: top;\n",
              "    }\n",
              "\n",
              "    .dataframe thead th {\n",
              "        text-align: right;\n",
              "    }\n",
              "</style>\n",
              "<table border=\"1\" class=\"dataframe\">\n",
              "  <thead>\n",
              "    <tr style=\"text-align: right;\">\n",
              "      <th></th>\n",
              "      <th>wine</th>\n",
              "      <th>num_reviews</th>\n",
              "    </tr>\n",
              "  </thead>\n",
              "  <tbody>\n",
              "    <tr>\n",
              "      <th>0</th>\n",
              "      <td>Ribera del Duero</td>\n",
              "      <td>62290</td>\n",
              "    </tr>\n",
              "    <tr>\n",
              "      <th>1</th>\n",
              "      <td>Valbuena 5o</td>\n",
              "      <td>61257</td>\n",
              "    </tr>\n",
              "    <tr>\n",
              "      <th>2</th>\n",
              "      <td>Tinto</td>\n",
              "      <td>45667</td>\n",
              "    </tr>\n",
              "    <tr>\n",
              "      <th>3</th>\n",
              "      <td>Toro</td>\n",
              "      <td>44832</td>\n",
              "    </tr>\n",
              "    <tr>\n",
              "      <th>4</th>\n",
              "      <td>Rioja Reserva</td>\n",
              "      <td>40031</td>\n",
              "    </tr>\n",
              "  </tbody>\n",
              "</table>\n",
              "</div>\n",
              "      <button class=\"colab-df-convert\" onclick=\"convertToInteractive('df-e7e7eaa6-294f-483a-b5aa-48d9fda62a66')\"\n",
              "              title=\"Convert this dataframe to an interactive table.\"\n",
              "              style=\"display:none;\">\n",
              "        \n",
              "  <svg xmlns=\"http://www.w3.org/2000/svg\" height=\"24px\"viewBox=\"0 0 24 24\"\n",
              "       width=\"24px\">\n",
              "    <path d=\"M0 0h24v24H0V0z\" fill=\"none\"/>\n",
              "    <path d=\"M18.56 5.44l.94 2.06.94-2.06 2.06-.94-2.06-.94-.94-2.06-.94 2.06-2.06.94zm-11 1L8.5 8.5l.94-2.06 2.06-.94-2.06-.94L8.5 2.5l-.94 2.06-2.06.94zm10 10l.94 2.06.94-2.06 2.06-.94-2.06-.94-.94-2.06-.94 2.06-2.06.94z\"/><path d=\"M17.41 7.96l-1.37-1.37c-.4-.4-.92-.59-1.43-.59-.52 0-1.04.2-1.43.59L10.3 9.45l-7.72 7.72c-.78.78-.78 2.05 0 2.83L4 21.41c.39.39.9.59 1.41.59.51 0 1.02-.2 1.41-.59l7.78-7.78 2.81-2.81c.8-.78.8-2.07 0-2.86zM5.41 20L4 18.59l7.72-7.72 1.47 1.35L5.41 20z\"/>\n",
              "  </svg>\n",
              "      </button>\n",
              "      \n",
              "  <style>\n",
              "    .colab-df-container {\n",
              "      display:flex;\n",
              "      flex-wrap:wrap;\n",
              "      gap: 12px;\n",
              "    }\n",
              "\n",
              "    .colab-df-convert {\n",
              "      background-color: #E8F0FE;\n",
              "      border: none;\n",
              "      border-radius: 50%;\n",
              "      cursor: pointer;\n",
              "      display: none;\n",
              "      fill: #1967D2;\n",
              "      height: 32px;\n",
              "      padding: 0 0 0 0;\n",
              "      width: 32px;\n",
              "    }\n",
              "\n",
              "    .colab-df-convert:hover {\n",
              "      background-color: #E2EBFA;\n",
              "      box-shadow: 0px 1px 2px rgba(60, 64, 67, 0.3), 0px 1px 3px 1px rgba(60, 64, 67, 0.15);\n",
              "      fill: #174EA6;\n",
              "    }\n",
              "\n",
              "    [theme=dark] .colab-df-convert {\n",
              "      background-color: #3B4455;\n",
              "      fill: #D2E3FC;\n",
              "    }\n",
              "\n",
              "    [theme=dark] .colab-df-convert:hover {\n",
              "      background-color: #434B5C;\n",
              "      box-shadow: 0px 1px 3px 1px rgba(0, 0, 0, 0.15);\n",
              "      filter: drop-shadow(0px 1px 2px rgba(0, 0, 0, 0.3));\n",
              "      fill: #FFFFFF;\n",
              "    }\n",
              "  </style>\n",
              "\n",
              "      <script>\n",
              "        const buttonEl =\n",
              "          document.querySelector('#df-e7e7eaa6-294f-483a-b5aa-48d9fda62a66 button.colab-df-convert');\n",
              "        buttonEl.style.display =\n",
              "          google.colab.kernel.accessAllowed ? 'block' : 'none';\n",
              "\n",
              "        async function convertToInteractive(key) {\n",
              "          const element = document.querySelector('#df-e7e7eaa6-294f-483a-b5aa-48d9fda62a66');\n",
              "          const dataTable =\n",
              "            await google.colab.kernel.invokeFunction('convertToInteractive',\n",
              "                                                     [key], {});\n",
              "          if (!dataTable) return;\n",
              "\n",
              "          const docLinkHtml = 'Like what you see? Visit the ' +\n",
              "            '<a target=\"_blank\" href=https://colab.research.google.com/notebooks/data_table.ipynb>data table notebook</a>'\n",
              "            + ' to learn more about interactive tables.';\n",
              "          element.innerHTML = '';\n",
              "          dataTable['output_type'] = 'display_data';\n",
              "          await google.colab.output.renderOutput(dataTable, element);\n",
              "          const docLink = document.createElement('div');\n",
              "          docLink.innerHTML = docLinkHtml;\n",
              "          element.appendChild(docLink);\n",
              "        }\n",
              "      </script>\n",
              "    </div>\n",
              "  </div>\n",
              "  "
            ]
          },
          "metadata": {},
          "execution_count": 58
        }
      ]
    },
    {
      "cell_type": "code",
      "source": [
        "sns.barplot(data = top_5_reviews_df, x='wine', y='num_reviews')\n",
        "plt.xticks(rotation=90)\n",
        "plt.show()"
      ],
      "metadata": {
        "colab": {
          "base_uri": "https://localhost:8080/",
          "height": 353
        },
        "id": "5LSomq0_0JjT",
        "outputId": "f51b5eeb-fd28-4683-84ec-fafe922daf2d"
      },
      "execution_count": 68,
      "outputs": [
        {
          "output_type": "display_data",
          "data": {
            "text/plain": [
              "<Figure size 432x288 with 1 Axes>"
            ],
            "image/png": "[encoded data removed]"
          },
          "metadata": {
            "needs_background": "light"
          }
        }
      ]
    },
    {
      "cell_type": "code",
      "source": [
        "sns.boxplot(x=df['price'])\n"
      ],
      "metadata": {
        "colab": {
          "base_uri": "https://localhost:8080/",
          "height": 296
        },
        "id": "Ac7ZSDIzCj2Z",
        "outputId": "6d50fdfd-62ae-4531-85dd-8329de5e9711"
      },
      "execution_count": 79,
      "outputs": [
        {
          "output_type": "execute_result",
          "data": {
            "text/plain": [
              "<Axes: xlabel='price'>"
            ]
          },
          "metadata": {},
          "execution_count": 79
        },
        {
          "output_type": "display_data",
          "data": {
            "text/plain": [
              "<Figure size 432x288 with 1 Axes>"
            ],
            "image/png": "[encoded data removed]"
          },
          "metadata": {
            "needs_background": "light"
          }
        }
      ]
    },
    {
      "cell_type": "code",
      "source": [
        "sns.histplot(x=df['type'])\n",
        "plt.xticks(rotation=90)\n",
        "plt.show()"
      ],
      "metadata": {
        "colab": {
          "base_uri": "https://localhost:8080/",
          "height": 377
        },
        "id": "IxD8u0gIEmWZ",
        "outputId": "ef5c9857-f6b8-46f3-b0b9-2774587023d3"
      },
      "execution_count": 81,
      "outputs": [
        {
          "output_type": "display_data",
          "data": {
            "text/plain": [
              "<Figure size 432x288 with 1 Axes>"
            ],
            "image/png": "[encoded data removed]"
          },
          "metadata": {
            "needs_background": "light"
          }
        }
      ]
    },
    {
      "cell_type": "code",
      "source": [],
      "metadata": {
        "id": "-WqWjjF1FRk4"
      },
      "execution_count": null,
      "outputs": []
    }
  ]
}